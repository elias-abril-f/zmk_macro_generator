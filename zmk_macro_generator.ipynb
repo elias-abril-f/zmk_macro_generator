{
 "cells": [
  {
   "cell_type": "code",
   "execution_count": null,
   "metadata": {},
   "outputs": [],
   "source": [
    "data = \\\n",
    "\"\"\"\\\n",
    "table = pd.pivot_table(df,index=['index1','index2'], values=[\"column1\", \"column2\"], aggfunc={'column1':np.mean,'column2':np.sum})\n",
    "\"\"\"\n",
    "x = \"bindings = <\"\n",
    "for char in data: \n",
    "        if char.isupper():\n",
    "            x+=f\"&kp LS({char})\"\n",
    "        elif  char.isnumeric():\n",
    "            x+=f\"&kp N{char}\"\n",
    "        else:    \n",
    "            match char:\n",
    "                case \"\\n\": x+=\"&kp ENTER\"\n",
    "                case \"[\": x+=\"&kp LBKT\"\n",
    "                case \"]\": x+=\"&kp RBKT\"\n",
    "                case \"{\": x+=\"&kp LBRC\"\n",
    "                case \"}\": x+=\"&kp RBRC\"\n",
    "                case \"(\": x+=\"&kp LPAR\"\n",
    "                case \")\": x+=\"&kp RPAR\"\n",
    "                case \"_\": x+=\"&kp UNDER\"\n",
    "                case \" \": x+=\"&kp SPACE\"\n",
    "                case \",\": x+=\"&kp COMMA\"\n",
    "                case \".\": x+=\"&kp DOT\"\n",
    "                case \"=\": x+=\"&kp EQUAL\"\n",
    "                case \"!\": x+=\"&kp EXCL\"\n",
    "                case \"*\": x+=\"&kp ASTRK\"\n",
    "                case \"+\": x+=\"&kp PLUS\"\n",
    "                case \"-\": x+=\"&kp MINUS\"\n",
    "                case \"/\": x+=\"&kp SLASH\"\n",
    "                case \"|\": x+=\"&kp PIPE\"\n",
    "                case \";\": x+=\"&kp SEMI\"\n",
    "                case \":\": x+=\"&kp COLON\"\n",
    "                case '\"': x+=\"&kp AT\" # AT and double quote swaped in uk layout\n",
    "                case \"'\": x+=\"&kp SQT\"\n",
    "                case \"<\": x+=\"&kp LT\"\n",
    "                case \">\": x+=\"&kp GT\"\n",
    "                case \"?\": x+=\"&kp QMARK\"\n",
    "                case \"@\": x+=\"&kp DQT\" # AT and double quote swaped in uk layout\n",
    "                case \"^\": x+=\"&kp CARET\"\n",
    "                case \"#\": x+=\"&kp HASH\"\n",
    "                case \"$\": x+=\"&kp DOLLAR\"\n",
    "                #Else\n",
    "                case _: x+= f\"&kp {char.upper()}\"\n",
    "        x+=\" \"\n",
    "x += \">;\"\n",
    "print(x)"
   ]
  }
 ],
 "metadata": {
  "kernelspec": {
   "display_name": "Python 3",
   "language": "python",
   "name": "python3"
  },
  "language_info": {
   "codemirror_mode": {
    "name": "ipython",
    "version": 3
   },
   "file_extension": ".py",
   "mimetype": "text/x-python",
   "name": "python",
   "nbconvert_exporter": "python",
   "pygments_lexer": "ipython3",
   "version": "3.11.7"
  },
  "orig_nbformat": 4
 },
 "nbformat": 4,
 "nbformat_minor": 2
}
